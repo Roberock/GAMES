{
 "cells": [
  {
   "cell_type": "code",
   "execution_count": 1,
   "metadata": {
    "collapsed": true
   },
   "outputs": [
    {
     "name": "stderr",
     "output_type": "stream",
     "text": [
      "C:\\Users\\roberto.rocchetta.in\\OneDrive - SUPSI\\Desktop\\GAMES project\\Codes\\neurips2022\\citylearn-2022-starter-kit\\venv\\lib\\site-packages\\geopandas\\_compat.py:112: UserWarning: The Shapely GEOS version (3.10.1-CAPI-1.16.0) is incompatible with the GEOS version PyGEOS was compiled with (3.10.3-CAPI-1.16.1). Conversions between both will be slow.\n",
      "  warnings.warn(\n"
     ]
    }
   ],
   "source": [
    "import matplotlib.pyplot as plt\n",
    "from zoning import *\n",
    "from mobility_data_analysis_toolbox import *\n",
    "from macroscopic_traffic_model import *\n",
    "from statistical_models_and_forecasters import *\n",
    "from macroscopic_traffic_model import Macroscopic_traffic_model"
   ]
  },
  {
   "cell_type": "code",
   "execution_count": null,
   "outputs": [
    {
     "name": "stdout",
     "output_type": "stream",
     "text": [
      "Loading data:autotel_2021_2022.pkl\n",
      "Done -- dataset length = 1033624\n",
      "filtering min(lat,lon) = (32.0294316, 34.7430645), and max(lat,lon) = (32.1446891, 34.8445086)\n"
     ]
    }
   ],
   "source": [
    "df = data_loader(data_dir='datasets/autotel', file_name='autotel_2021_2022.pkl')\n",
    "TelAviv = Macroscopic_traffic_model(geographical_area = 'Tel Aviv, Israel')\n",
    "lon_min, lon_max, lat_min, lat_max = TelAviv.get_minmax_lon_lat() # get minimum and maximum latitudes, longitudes from the street graph\n",
    "_, df_sequence = preprocess_trip_data_frame(df, lon_min, lon_max, lat_min, lat_max )"
   ],
   "metadata": {
    "collapsed": false,
    "pycharm": {
     "is_executing": true
    }
   }
  },
  {
   "cell_type": "code",
   "execution_count": null,
   "outputs": [],
   "source": [
    "# Create and fit the model\n",
    "model_wrapper = MobilityDemandForecaster()\n",
    "model_dir = 'models/autotel'\n",
    "model_save_path = os.path.join(model_dir, 'model_wrapper.pkl')\n",
    "H_past, H_future =12, 24\n",
    "X_tst, y_tst , X_train, y_train = prepare_forecaster_data(df_sequence, H_past=H_past, H_future=H_future,n_test=500)"
   ],
   "metadata": {
    "collapsed": false,
    "pycharm": {
     "is_executing": true
    }
   }
  },
  {
   "cell_type": "markdown",
   "source": [
    "model_wrapper.fit(X, y)\n",
    "modelfolder = 'models/autotel' # Specify the subfolder path\n",
    "if not os.path.exists(modelfolder): # Create the subfolder if it doesn't exist\n",
    "    os.makedirs(modelfolder)\n",
    "model_save_path = os.path.join(modelfolder, 'model_wrapper.pkl')\n",
    "with open(model_save_path, 'wb') as f: # Save the entire class with trained parameters in the subfolder\n",
    "    pickle.dump(model_wrapper, f)"
   ],
   "metadata": {
    "collapsed": false
   }
  },
  {
   "cell_type": "code",
   "execution_count": null,
   "outputs": [],
   "source": [
    "# Load the model wrapper\n",
    "with open(model_save_path, 'rb') as f:\n",
    "    model_wrapper = pickle.load(f)\n",
    "model_wrapper.model\n",
    "best_parameters = model_wrapper.best_parameters # Access the trained parameters\n",
    "prediction, uncertainty_band = model_wrapper.predict(X_tst) # Use the model wrapper and its trained parameters"
   ],
   "metadata": {
    "collapsed": false,
    "pycharm": {
     "is_executing": true
    }
   }
  },
  {
   "cell_type": "code",
   "execution_count": null,
   "outputs": [],
   "source": [
    "predict_t, T_plot = 0, 100\n",
    "fig, ax = plt.subplots(1,2)\n",
    "ax[0].plot(prediction[:,predict_t][:T_plot],'b', label = ' prediction t' +str(predict_t))\n",
    "ax[0].plot(uncertainty_band[0][:,predict_t][:T_plot],':k', label = ' lower pred')\n",
    "ax[0].plot(uncertainty_band[1][:,predict_t][:T_plot],':k', label = ' upper pred')\n",
    "ax[0].plot(y_tst.iloc[:,predict_t][:T_plot], 'r', label = ' true')\n",
    "predict_t, T_plot =12, 100\n",
    "ax[1].plot(prediction[:,predict_t][:T_plot],'b', label = ' prediction'+str(predict_t))\n",
    "ax[1].plot(uncertainty_band[0][:,predict_t][:T_plot],':k', label = ' lower pred')\n",
    "ax[1].plot(uncertainty_band[1][:,predict_t][:T_plot],':k', label = ' upper pred')\n",
    "ax[1].plot(y_tst.iloc[:,predict_t][:T_plot], 'r', label = ' true') ;\n",
    "plt.legend()\n"
   ],
   "metadata": {
    "collapsed": false,
    "pycharm": {
     "is_executing": true
    }
   }
  },
  {
   "cell_type": "code",
   "execution_count": null,
   "outputs": [],
   "source": [
    "best_parameters"
   ],
   "metadata": {
    "collapsed": false,
    "pycharm": {
     "is_executing": true
    }
   }
  },
  {
   "cell_type": "code",
   "execution_count": null,
   "outputs": [],
   "source": [],
   "metadata": {
    "collapsed": false,
    "pycharm": {
     "is_executing": true
    }
   }
  }
 ],
 "metadata": {
  "kernelspec": {
   "display_name": "Python 3",
   "language": "python",
   "name": "python3"
  },
  "language_info": {
   "codemirror_mode": {
    "name": "ipython",
    "version": 2
   },
   "file_extension": ".py",
   "mimetype": "text/x-python",
   "name": "python",
   "nbconvert_exporter": "python",
   "pygments_lexer": "ipython2",
   "version": "2.7.6"
  }
 },
 "nbformat": 4,
 "nbformat_minor": 0
}
