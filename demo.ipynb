{
 "cells": [
  {
   "cell_type": "code",
   "execution_count": 3,
   "outputs": [
    {
     "name": "stderr",
     "output_type": "stream",
     "text": [
      "C:\\Users\\roberto.rocchetta.in\\OneDrive - SUPSI\\Desktop\\GAMES project\\Codes\\neurips2022\\citylearn-2022-starter-kit\\venv\\lib\\site-packages\\geopandas\\_compat.py:112: UserWarning: The Shapely GEOS version (3.10.1-CAPI-1.16.0) is incompatible with the GEOS version PyGEOS was compiled with (3.10.3-CAPI-1.16.1). Conversions between both will be slow.\n",
      "  warnings.warn(\n"
     ]
    }
   ],
   "source": [
    "import matplotlib.pyplot as plt\n",
    "from zoning import *\n",
    "from mobility_data_analysis_toolbox import *\n",
    "from macroscopic_traffic_model import *\n",
    "from statistical_models_and_forecasters import *\n",
    "from macroscopic_traffic_model import Macroscopic_traffic_model"
   ],
   "metadata": {
    "collapsed": false
   }
  },
  {
   "cell_type": "markdown",
   "source": [
    "### Defne macroscopic traffic model - street network for telaviv"
   ],
   "metadata": {
    "collapsed": false
   }
  },
  {
   "cell_type": "code",
   "execution_count": null,
   "outputs": [],
   "source": [
    "TelAviv = Macroscopic_traffic_model(geographical_area = 'Tel Aviv, Israel')\n",
    "Zurich = Macroscopic_traffic_model(geographical_area = 'Zurich, CH')"
   ],
   "metadata": {
    "collapsed": false,
    "pycharm": {
     "is_executing": true
    }
   }
  },
  {
   "cell_type": "markdown",
   "source": [
    "### methods of the traffic model"
   ],
   "metadata": {
    "collapsed": false
   }
  },
  {
   "cell_type": "code",
   "execution_count": null,
   "outputs": [],
   "source": [
    "lon_min, lon_max, lat_min, lat_max = TelAviv.get_minmax_lon_lat() # get minimum and maximum latitudes, longitudes from the street graph\n",
    "TelAviv.plot_graph_data(feature = 'speed_kph', data_threshold = 50) # in red are streets with speed >= 50 kph\n",
    "#TelAviv.plot_graph_data(feature = 'travel_time', data_threshold = 60) # in red are streets with travel_time >= 60 seconds\n",
    "#TelAviv.plot_graph_data(feature = 'length', data_threshold = 100) # in red are streets with length >= 20 meters\n",
    "#TelAviv.plot_graph_data(feature = 'highway', data_threshold = 'residential') # in red are branches labelled as residential streets\n",
    "df_edges = TelAviv.create_edge_dataframe() # get lat,lon start-end of the edges/streets\n",
    "path = TelAviv.shortest_path_start_end(LO_LA_start= [34.79, 32.073], LO_LA_end = [34.791, 32.09] ) # get (if exist) the shortest path/route from start to end (latitude,longitude)\n",
    "df_trips = pd.DataFrame([[1, 34.79, 32.073, 34.789, 32.093, 9], [2, 34.789, 32.138, 34.7923, 32.1, 12]],\n",
    "                        columns=['reservation_id', 'startLongitude', 'startLatitude', 'endLongitude', 'endLatitude', 'distance']) # example of trip data set\n",
    "TelAviv.plot_trip_routes(df_trips, show=True, route_alpha=0.9)\n",
    "routes, df_route_features = TelAviv.get_shortest_routes_and_features(df_trips) # routes= list of routes, df_route_features= data frame with features of the trip and shortest routes"
   ],
   "metadata": {
    "collapsed": false,
    "pycharm": {
     "is_executing": true
    }
   }
  },
  {
   "cell_type": "markdown",
   "source": [
    "### load carsharing data"
   ],
   "metadata": {
    "collapsed": false
   }
  },
  {
   "cell_type": "code",
   "execution_count": null,
   "outputs": [],
   "source": [
    "df = data_loader(data_dir='datasets/autotel', file_name='autotel_2021_2022.pkl')\n",
    "df, df_sequence = preprocess_trip_data_frame(df,lon_min, lon_max, lat_min, lat_max) # df_sequence is a reshaped dataset where we split booking events (is_start =True) and idle events (is_start =False)"
   ],
   "metadata": {
    "collapsed": false
   }
  },
  {
   "cell_type": "code",
   "execution_count": null,
   "outputs": [],
   "source": [
    "df_Zh_one_day_sim  = data_loader(data_dir='datasets/mobility/simulated', file_name='sim_reserv_df_in_zurich_1_day_from_userdemand.csv')\n",
    "df_Zh_six_month_sim = data_loader(data_dir='datasets/mobility/simulated', file_name='sim_presence_matrx_in_zurich_6_months_statistical_sampler.csv')"
   ],
   "metadata": {
    "collapsed": false
   }
  },
  {
   "cell_type": "code",
   "execution_count": null,
   "outputs": [],
   "source": [
    "fig, AXs = plt.subplots(1,4, figsize=(18,2))\n",
    "for car_id, ax in enumerate(AXs):\n",
    "    ax.plot(df_Zh_six_month_sim.iloc[car_id,2:][:1000].values, label='simulated availability of car ID: ' + str(car_id))\n",
    "    ax.legend(loc='best')\n",
    "    ax.set_xlabel('time step')\n",
    "    ax.set_ylabel('availability')\n",
    "    ax.set_yticks([0,1])"
   ],
   "metadata": {
    "collapsed": false
   }
  },
  {
   "cell_type": "code",
   "execution_count": null,
   "outputs": [],
   "source": [
    "# get daily mobility info # 'matrix_daily_arrivals', 'results_daily', 'matrix_mean_distances', 'matrix_mean_idle', 'car_id_parked_per_day', 'mean_daily_arrivals', 'mean_daily_departures'\n",
    "results_daily = get_daily_profiles_data(df_sequence)\n",
    "statistical_demands = historical_hourly_demand(df_sequence)# historical hourly demand profiles"
   ],
   "metadata": {
    "collapsed": false
   }
  },
  {
   "cell_type": "markdown",
   "source": [
    "### example of zoning and analysis\n",
    "* discretize street map in nlat x nlon rectangular areas and append the zone index to the data frame\n",
    "* compute mean and variance of idle time and trip duration for each zone\n",
    "* plot the results on the steet network"
   ],
   "metadata": {
    "collapsed": false
   }
  },
  {
   "cell_type": "code",
   "execution_count": null,
   "outputs": [],
   "source": [
    "n_disretized_lat_lon = [15, 15]\n",
    "df_sequence, linspace_lat, linspace_lon = define_zones(df_sequence, n_disretized_lat_lon=n_disretized_lat_lon)\n",
    "Idle_duration_zone_stats, Trips_duration_zone_stats = matrix_stats_idle_duration(df_sequence)\n",
    "plot_zone_duration_stats(Idle_duration_zone_stats['mean'], Idle_duration_zone_stats['std'], TelAviv,  label1='Mean idle time', label2='STD idle time')\n",
    "plot_zone_duration_stats(Trips_duration_zone_stats['mean'], Trips_duration_zone_stats['std'], TelAviv, label1='Mean trip duration', label2='STD trip duration')\n",
    "plot_density_arrivals_departures_net_out_flows(Trips_duration_zone_stats['n_samples'],  Idle_duration_zone_stats['n_samples'], TelAviv)"
   ],
   "metadata": {
    "collapsed": false
   }
  },
  {
   "cell_type": "markdown",
   "source": [
    "### Example of forecaster for the total mobility demand in Tel Aviv (forecast total number of departures):\n",
    "* prepare data set\n",
    "* train and save a Mobility forecaster\n",
    "* load the forecaster and predict"
   ],
   "metadata": {
    "collapsed": false
   }
  },
  {
   "cell_type": "code",
   "execution_count": null,
   "outputs": [],
   "source": [
    "## prepare data for predictor\n",
    "DEMAND = results_daily['matrix_daily_departures'][:-1]\n",
    "time_features = results_daily['mat_time_features'][:-1]\n",
    "WEEKDAYS = np.array([time_features[:, 0] for _ in range(24)])\n",
    "HOLIDAY_INDICATOR = np.array([time_features[:, 1] for _ in range(24)])\n",
    "HOURS = np.array([range(24) for _ in DEMAND])\n",
    "DEMAND, WEEKDAYS, HOLIDAY_INDICATOR, HOURS = DEMAND.flatten(),  WEEKDAYS.flatten(),  HOLIDAY_INDICATOR.flatten(), HOURS.flatten()\n",
    "n_hours = len(DEMAND)\n",
    "H_past, H_future = 12, 14 # steps to look in the past horizon (part of the inputs) and future prediction horizon (the outputs)\n",
    "X, y= [], []\n",
    "for t in range(n_hours-H_future):\n",
    "    \"\"\"prepare data for fitting demand/departures prediction models\"\"\"\n",
    "    if t>=H_past:\n",
    "        X.append([WEEKDAYS[t], HOURS[t], HOLIDAY_INDICATOR[t]]+DEMAND[t-H_past:t].tolist())\n",
    "        y.append(DEMAND[t:t+H_future].tolist())\n",
    "input_names = ['weekday','hour', 'is_holiday'] + [ 'past_load_t' +str(t) for t in range(H_past)]\n",
    "output_names = [ 'future_load_t' +str(t) for t in range(H_future)]\n",
    "X = pd.DataFrame(X, columns=input_names)\n",
    "y = pd.DataFrame(y, columns=output_names)"
   ],
   "metadata": {
    "collapsed": false
   }
  },
  {
   "cell_type": "code",
   "execution_count": null,
   "outputs": [],
   "source": [
    "# Create and fit the model\n",
    "model_wrapper = MobilityDemandForecaster()\n",
    "model_wrapper.fit(X, y)\n",
    "modelfolder = 'models/autotel' # Specify the subfolder path\n",
    "if not os.path.exists(modelfolder): # Create the subfolder if it doesn't exist\n",
    "    os.makedirs(modelfolder)\n",
    "model_save_path = os.path.join(modelfolder, 'model_wrapper.pkl')\n",
    "with open(model_save_path, 'wb') as f: # Save the entire class with trained parameters in the subfolder\n",
    "    pickle.dump(model_wrapper, f)"
   ],
   "metadata": {
    "collapsed": false
   }
  },
  {
   "cell_type": "code",
   "execution_count": null,
   "outputs": [],
   "source": [
    "# Load the model wrapper\n",
    "with open(model_save_path, 'rb') as f:\n",
    "    model_wrapper = pickle.load(f)\n",
    "# Access the trained parameters\n",
    "best_parameters = model_wrapper.best_parameters\n",
    "# Use the model wrapper and its trained parameters\n",
    "prediction, uncertainty_band = model_wrapper.predict(X)"
   ],
   "metadata": {
    "collapsed": false
   }
  },
  {
   "cell_type": "code",
   "execution_count": null,
   "outputs": [],
   "source": [
    "prediction"
   ],
   "metadata": {
    "collapsed": false
   }
  },
  {
   "cell_type": "code",
   "execution_count": null,
   "outputs": [],
   "source": [
    "predict_t, T_plot = 0, 100\n",
    "fig, ax = plt.subplots(1,2)\n",
    "ax[0].plot(prediction[:,predict_t][:T_plot],'b', label = ' prediction t' +str(predict_t))\n",
    "ax[0].plot(uncertainty_band[0][:,predict_t][:T_plot],':k', label = ' lower pred')\n",
    "ax[0].plot(uncertainty_band[1][:,predict_t][:T_plot],':k', label = ' upper pred')\n",
    "ax[0].plot(y.iloc[:,predict_t][:T_plot], 'r', label = ' true')\n",
    "predict_t, T_plot =12, 100\n",
    "ax[1].plot(prediction[:,predict_t][:T_plot],'b', label = ' prediction'+str(predict_t))\n",
    "ax[1].plot(uncertainty_band[0][:,predict_t][:T_plot],':k', label = ' lower pred')\n",
    "ax[1].plot(uncertainty_band[1][:,predict_t][:T_plot],':k', label = ' upper pred')\n",
    "ax[1].plot(y.iloc[:,predict_t][:T_plot], 'r', label = ' true') ;\n",
    "plt.legend()\n"
   ],
   "metadata": {
    "collapsed": false
   }
  },
  {
   "cell_type": "code",
   "execution_count": null,
   "outputs": [],
   "source": [
    "from sklearn.neighbors import KernelDensity\n",
    "from scipy.optimize import minimize\n",
    "from scipy.spatial.distance import cdist\n",
    "# Generate some latitude and longitude data\n",
    "df_masked = df_sequence[(df_sequence['is_start']==True) & (df_sequence['hour']==0)]\n",
    "data= df_masked[['LAT','LON']].to_numpy()\n",
    "# Construct the KDE estimator\n",
    "kde = KernelDensity(bandwidth='Silverman')  # Adjust the bandwidth as needed\n",
    "kde.fit(data)\n",
    "# Generate sample points for evaluation\n",
    "sample_points = df_masked[['LAT','LON']]\n",
    "# Evaluate the log density at the sample points\n",
    "log_density = kde.score_samples(sample_points)\n",
    "print(\"Log Density:\", log_density)"
   ],
   "metadata": {
    "collapsed": false
   }
  },
  {
   "cell_type": "code",
   "execution_count": null,
   "outputs": [],
   "source": [],
   "metadata": {
    "collapsed": false
   }
  },
  {
   "cell_type": "code",
   "execution_count": null,
   "outputs": [],
   "source": [],
   "metadata": {
    "collapsed": false
   }
  },
  {
   "cell_type": "code",
   "execution_count": null,
   "outputs": [],
   "source": [],
   "metadata": {
    "collapsed": false
   }
  }
 ],
 "metadata": {
  "kernelspec": {
   "display_name": "Python 3",
   "language": "python",
   "name": "python3"
  },
  "language_info": {
   "codemirror_mode": {
    "name": "ipython",
    "version": 2
   },
   "file_extension": ".py",
   "mimetype": "text/x-python",
   "name": "python",
   "nbconvert_exporter": "python",
   "pygments_lexer": "ipython2",
   "version": "2.7.6"
  }
 },
 "nbformat": 4,
 "nbformat_minor": 0
}
